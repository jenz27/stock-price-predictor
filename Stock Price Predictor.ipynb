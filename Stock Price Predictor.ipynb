{
 "cells": [
  {
   "cell_type": "code",
   "execution_count": 1,
   "id": "175d6829",
   "metadata": {
    "_cell_guid": "b1076dfc-b9ad-4769-8c92-a6c4dae69d19",
    "_uuid": "8f2839f25d086af736a60e9eeb907d3b93b6e0e5",
    "execution": {
     "iopub.execute_input": "2024-06-25T19:26:08.710253Z",
     "iopub.status.busy": "2024-06-25T19:26:08.709525Z",
     "iopub.status.idle": "2024-06-25T19:26:09.462167Z",
     "shell.execute_reply": "2024-06-25T19:26:09.460980Z"
    },
    "papermill": {
     "duration": 0.76318,
     "end_time": "2024-06-25T19:26:09.464502",
     "exception": false,
     "start_time": "2024-06-25T19:26:08.701322",
     "status": "completed"
    },
    "tags": []
   },
   "outputs": [
    {
     "name": "stdout",
     "output_type": "stream",
     "text": [
      "/kaggle/input/nsetataglobal/NSE-TATAGLOBAL11.csv\n"
     ]
    }
   ],
   "source": [
    "# This Python 3 environment comes with many helpful analytics libraries installed\n",
    "# It is defined by the kaggle/python Docker image: https://github.com/kaggle/docker-python\n",
    "# For example, here's several helpful packages to load\n",
    "\n",
    "import numpy as np # linear algebra\n",
    "import pandas as pd # data processing, CSV file I/O (e.g. pd.read_csv)\n",
    "\n",
    "# Input data files are available in the read-only \"../input/\" directory\n",
    "# For example, running this (by clicking run or pressing Shift+Enter) will list all files under the input directory\n",
    "\n",
    "import os\n",
    "for dirname, _, filenames in os.walk('/kaggle/input'):\n",
    "    for filename in filenames:\n",
    "        print(os.path.join(dirname, filename))\n",
    "\n",
    "# You can write up to 20GB to the current directory (/kaggle/working/) that gets preserved as output when you create a version using \"Save & Run All\" \n",
    "# You can also write temporary files to /kaggle/temp/, but they won't be saved outside of the current session"
   ]
  },
  {
   "cell_type": "code",
   "execution_count": 2,
   "id": "2c842989",
   "metadata": {
    "execution": {
     "iopub.execute_input": "2024-06-25T19:26:09.479693Z",
     "iopub.status.busy": "2024-06-25T19:26:09.478836Z",
     "iopub.status.idle": "2024-06-25T19:26:09.486746Z",
     "shell.execute_reply": "2024-06-25T19:26:09.485825Z"
    },
    "papermill": {
     "duration": 0.017767,
     "end_time": "2024-06-25T19:26:09.488993",
     "exception": false,
     "start_time": "2024-06-25T19:26:09.471226",
     "status": "completed"
    },
    "tags": []
   },
   "outputs": [],
   "source": [
    "import pandas as pd\n",
    "import numpy as np\n",
    "import matplotlib.pyplot as plt\n",
    "%matplotlib inline\n",
    "from matplotlib.pylab import rcParams\n",
    "rcParams['figure.figsize']=20,10"
   ]
  },
  {
   "cell_type": "code",
   "execution_count": 3,
   "id": "a86605f9",
   "metadata": {
    "execution": {
     "iopub.execute_input": "2024-06-25T19:26:09.504591Z",
     "iopub.status.busy": "2024-06-25T19:26:09.503768Z",
     "iopub.status.idle": "2024-06-25T19:26:22.407163Z",
     "shell.execute_reply": "2024-06-25T19:26:22.406105Z"
    },
    "papermill": {
     "duration": 12.913926,
     "end_time": "2024-06-25T19:26:22.409785",
     "exception": false,
     "start_time": "2024-06-25T19:26:09.495859",
     "status": "completed"
    },
    "tags": []
   },
   "outputs": [
    {
     "name": "stderr",
     "output_type": "stream",
     "text": [
      "2024-06-25 19:26:11.470664: E external/local_xla/xla/stream_executor/cuda/cuda_dnn.cc:9261] Unable to register cuDNN factory: Attempting to register factory for plugin cuDNN when one has already been registered\n",
      "2024-06-25 19:26:11.470790: E external/local_xla/xla/stream_executor/cuda/cuda_fft.cc:607] Unable to register cuFFT factory: Attempting to register factory for plugin cuFFT when one has already been registered\n",
      "2024-06-25 19:26:11.612720: E external/local_xla/xla/stream_executor/cuda/cuda_blas.cc:1515] Unable to register cuBLAS factory: Attempting to register factory for plugin cuBLAS when one has already been registered\n"
     ]
    }
   ],
   "source": [
    "\n",
    "from keras.models import Sequential\n",
    "\n",
    "from keras.layers import LSTM,Dropout,Dense\n",
    "\n",
    "from sklearn.preprocessing import MinMaxScaler"
   ]
  },
  {
   "cell_type": "code",
   "execution_count": 4,
   "id": "52740777",
   "metadata": {
    "execution": {
     "iopub.execute_input": "2024-06-25T19:26:22.423993Z",
     "iopub.status.busy": "2024-06-25T19:26:22.423428Z",
     "iopub.status.idle": "2024-06-25T19:26:22.469274Z",
     "shell.execute_reply": "2024-06-25T19:26:22.468290Z"
    },
    "papermill": {
     "duration": 0.055071,
     "end_time": "2024-06-25T19:26:22.471332",
     "exception": false,
     "start_time": "2024-06-25T19:26:22.416261",
     "status": "completed"
    },
    "tags": []
   },
   "outputs": [
    {
     "data": {
      "text/html": [
       "<div>\n",
       "<style scoped>\n",
       "    .dataframe tbody tr th:only-of-type {\n",
       "        vertical-align: middle;\n",
       "    }\n",
       "\n",
       "    .dataframe tbody tr th {\n",
       "        vertical-align: top;\n",
       "    }\n",
       "\n",
       "    .dataframe thead th {\n",
       "        text-align: right;\n",
       "    }\n",
       "</style>\n",
       "<table border=\"1\" class=\"dataframe\">\n",
       "  <thead>\n",
       "    <tr style=\"text-align: right;\">\n",
       "      <th></th>\n",
       "      <th>Date</th>\n",
       "      <th>Open</th>\n",
       "      <th>High</th>\n",
       "      <th>Low</th>\n",
       "      <th>Last</th>\n",
       "      <th>Close</th>\n",
       "      <th>Total Trade Quantity</th>\n",
       "      <th>Turnover (Lacs)</th>\n",
       "    </tr>\n",
       "  </thead>\n",
       "  <tbody>\n",
       "    <tr>\n",
       "      <th>0</th>\n",
       "      <td>2018-10-08</td>\n",
       "      <td>208.00</td>\n",
       "      <td>222.25</td>\n",
       "      <td>206.85</td>\n",
       "      <td>216.00</td>\n",
       "      <td>215.15</td>\n",
       "      <td>4642146.0</td>\n",
       "      <td>10062.83</td>\n",
       "    </tr>\n",
       "    <tr>\n",
       "      <th>1</th>\n",
       "      <td>2018-10-05</td>\n",
       "      <td>217.00</td>\n",
       "      <td>218.60</td>\n",
       "      <td>205.90</td>\n",
       "      <td>210.25</td>\n",
       "      <td>209.20</td>\n",
       "      <td>3519515.0</td>\n",
       "      <td>7407.06</td>\n",
       "    </tr>\n",
       "    <tr>\n",
       "      <th>2</th>\n",
       "      <td>2018-10-04</td>\n",
       "      <td>223.50</td>\n",
       "      <td>227.80</td>\n",
       "      <td>216.15</td>\n",
       "      <td>217.25</td>\n",
       "      <td>218.20</td>\n",
       "      <td>1728786.0</td>\n",
       "      <td>3815.79</td>\n",
       "    </tr>\n",
       "    <tr>\n",
       "      <th>3</th>\n",
       "      <td>2018-10-03</td>\n",
       "      <td>230.00</td>\n",
       "      <td>237.50</td>\n",
       "      <td>225.75</td>\n",
       "      <td>226.45</td>\n",
       "      <td>227.60</td>\n",
       "      <td>1708590.0</td>\n",
       "      <td>3960.27</td>\n",
       "    </tr>\n",
       "    <tr>\n",
       "      <th>4</th>\n",
       "      <td>2018-10-01</td>\n",
       "      <td>234.55</td>\n",
       "      <td>234.60</td>\n",
       "      <td>221.05</td>\n",
       "      <td>230.30</td>\n",
       "      <td>230.90</td>\n",
       "      <td>1534749.0</td>\n",
       "      <td>3486.05</td>\n",
       "    </tr>\n",
       "    <tr>\n",
       "      <th>...</th>\n",
       "      <td>...</td>\n",
       "      <td>...</td>\n",
       "      <td>...</td>\n",
       "      <td>...</td>\n",
       "      <td>...</td>\n",
       "      <td>...</td>\n",
       "      <td>...</td>\n",
       "      <td>...</td>\n",
       "    </tr>\n",
       "    <tr>\n",
       "      <th>1230</th>\n",
       "      <td>2013-10-14</td>\n",
       "      <td>160.85</td>\n",
       "      <td>161.45</td>\n",
       "      <td>157.70</td>\n",
       "      <td>159.30</td>\n",
       "      <td>159.45</td>\n",
       "      <td>1281419.0</td>\n",
       "      <td>2039.09</td>\n",
       "    </tr>\n",
       "    <tr>\n",
       "      <th>1231</th>\n",
       "      <td>2013-10-11</td>\n",
       "      <td>161.15</td>\n",
       "      <td>163.45</td>\n",
       "      <td>159.00</td>\n",
       "      <td>159.80</td>\n",
       "      <td>160.05</td>\n",
       "      <td>1880046.0</td>\n",
       "      <td>3030.76</td>\n",
       "    </tr>\n",
       "    <tr>\n",
       "      <th>1232</th>\n",
       "      <td>2013-10-10</td>\n",
       "      <td>156.00</td>\n",
       "      <td>160.80</td>\n",
       "      <td>155.85</td>\n",
       "      <td>160.30</td>\n",
       "      <td>160.15</td>\n",
       "      <td>3124853.0</td>\n",
       "      <td>4978.80</td>\n",
       "    </tr>\n",
       "    <tr>\n",
       "      <th>1233</th>\n",
       "      <td>2013-10-09</td>\n",
       "      <td>155.70</td>\n",
       "      <td>158.20</td>\n",
       "      <td>154.15</td>\n",
       "      <td>155.30</td>\n",
       "      <td>155.55</td>\n",
       "      <td>2049580.0</td>\n",
       "      <td>3204.49</td>\n",
       "    </tr>\n",
       "    <tr>\n",
       "      <th>1234</th>\n",
       "      <td>2013-10-08</td>\n",
       "      <td>157.00</td>\n",
       "      <td>157.80</td>\n",
       "      <td>155.20</td>\n",
       "      <td>155.80</td>\n",
       "      <td>155.80</td>\n",
       "      <td>1720413.0</td>\n",
       "      <td>2688.94</td>\n",
       "    </tr>\n",
       "  </tbody>\n",
       "</table>\n",
       "<p>1235 rows × 8 columns</p>\n",
       "</div>"
      ],
      "text/plain": [
       "            Date    Open    High     Low    Last   Close  \\\n",
       "0     2018-10-08  208.00  222.25  206.85  216.00  215.15   \n",
       "1     2018-10-05  217.00  218.60  205.90  210.25  209.20   \n",
       "2     2018-10-04  223.50  227.80  216.15  217.25  218.20   \n",
       "3     2018-10-03  230.00  237.50  225.75  226.45  227.60   \n",
       "4     2018-10-01  234.55  234.60  221.05  230.30  230.90   \n",
       "...          ...     ...     ...     ...     ...     ...   \n",
       "1230  2013-10-14  160.85  161.45  157.70  159.30  159.45   \n",
       "1231  2013-10-11  161.15  163.45  159.00  159.80  160.05   \n",
       "1232  2013-10-10  156.00  160.80  155.85  160.30  160.15   \n",
       "1233  2013-10-09  155.70  158.20  154.15  155.30  155.55   \n",
       "1234  2013-10-08  157.00  157.80  155.20  155.80  155.80   \n",
       "\n",
       "      Total Trade Quantity  Turnover (Lacs)  \n",
       "0                4642146.0         10062.83  \n",
       "1                3519515.0          7407.06  \n",
       "2                1728786.0          3815.79  \n",
       "3                1708590.0          3960.27  \n",
       "4                1534749.0          3486.05  \n",
       "...                    ...              ...  \n",
       "1230             1281419.0          2039.09  \n",
       "1231             1880046.0          3030.76  \n",
       "1232             3124853.0          4978.80  \n",
       "1233             2049580.0          3204.49  \n",
       "1234             1720413.0          2688.94  \n",
       "\n",
       "[1235 rows x 8 columns]"
      ]
     },
     "execution_count": 4,
     "metadata": {},
     "output_type": "execute_result"
    }
   ],
   "source": [
    "df=pd.read_csv('/kaggle/input/nsetataglobal/NSE-TATAGLOBAL11.csv')\n",
    "df"
   ]
  },
  {
   "cell_type": "code",
   "execution_count": 5,
   "id": "c9d0b6b1",
   "metadata": {
    "execution": {
     "iopub.execute_input": "2024-06-25T19:26:22.485692Z",
     "iopub.status.busy": "2024-06-25T19:26:22.485348Z",
     "iopub.status.idle": "2024-06-25T19:26:22.507061Z",
     "shell.execute_reply": "2024-06-25T19:26:22.506099Z"
    },
    "papermill": {
     "duration": 0.031423,
     "end_time": "2024-06-25T19:26:22.509318",
     "exception": false,
     "start_time": "2024-06-25T19:26:22.477895",
     "status": "completed"
    },
    "tags": []
   },
   "outputs": [
    {
     "name": "stdout",
     "output_type": "stream",
     "text": [
      "<class 'pandas.core.frame.DataFrame'>\n",
      "RangeIndex: 1235 entries, 0 to 1234\n",
      "Data columns (total 8 columns):\n",
      " #   Column                Non-Null Count  Dtype  \n",
      "---  ------                --------------  -----  \n",
      " 0   Date                  1235 non-null   object \n",
      " 1   Open                  1235 non-null   float64\n",
      " 2   High                  1235 non-null   float64\n",
      " 3   Low                   1235 non-null   float64\n",
      " 4   Last                  1235 non-null   float64\n",
      " 5   Close                 1235 non-null   float64\n",
      " 6   Total Trade Quantity  1235 non-null   float64\n",
      " 7   Turnover (Lacs)       1235 non-null   float64\n",
      "dtypes: float64(7), object(1)\n",
      "memory usage: 77.3+ KB\n"
     ]
    }
   ],
   "source": [
    "df.info()"
   ]
  },
  {
   "cell_type": "code",
   "execution_count": 6,
   "id": "24d09c3a",
   "metadata": {
    "execution": {
     "iopub.execute_input": "2024-06-25T19:26:22.524141Z",
     "iopub.status.busy": "2024-06-25T19:26:22.523774Z",
     "iopub.status.idle": "2024-06-25T19:26:22.548226Z",
     "shell.execute_reply": "2024-06-25T19:26:22.547173Z"
    },
    "papermill": {
     "duration": 0.034379,
     "end_time": "2024-06-25T19:26:22.550515",
     "exception": false,
     "start_time": "2024-06-25T19:26:22.516136",
     "status": "completed"
    },
    "tags": []
   },
   "outputs": [
    {
     "data": {
      "text/html": [
       "<div>\n",
       "<style scoped>\n",
       "    .dataframe tbody tr th:only-of-type {\n",
       "        vertical-align: middle;\n",
       "    }\n",
       "\n",
       "    .dataframe tbody tr th {\n",
       "        vertical-align: top;\n",
       "    }\n",
       "\n",
       "    .dataframe thead th {\n",
       "        text-align: right;\n",
       "    }\n",
       "</style>\n",
       "<table border=\"1\" class=\"dataframe\">\n",
       "  <thead>\n",
       "    <tr style=\"text-align: right;\">\n",
       "      <th></th>\n",
       "      <th>Date</th>\n",
       "      <th>Open</th>\n",
       "      <th>High</th>\n",
       "      <th>Low</th>\n",
       "      <th>Last</th>\n",
       "      <th>Close</th>\n",
       "      <th>Total Trade Quantity</th>\n",
       "      <th>Turnover (Lacs)</th>\n",
       "    </tr>\n",
       "    <tr>\n",
       "      <th>Date</th>\n",
       "      <th></th>\n",
       "      <th></th>\n",
       "      <th></th>\n",
       "      <th></th>\n",
       "      <th></th>\n",
       "      <th></th>\n",
       "      <th></th>\n",
       "      <th></th>\n",
       "    </tr>\n",
       "  </thead>\n",
       "  <tbody>\n",
       "    <tr>\n",
       "      <th>2018-10-08</th>\n",
       "      <td>2018-10-08</td>\n",
       "      <td>208.00</td>\n",
       "      <td>222.25</td>\n",
       "      <td>206.85</td>\n",
       "      <td>216.00</td>\n",
       "      <td>215.15</td>\n",
       "      <td>4642146.0</td>\n",
       "      <td>10062.83</td>\n",
       "    </tr>\n",
       "    <tr>\n",
       "      <th>2018-10-05</th>\n",
       "      <td>2018-10-05</td>\n",
       "      <td>217.00</td>\n",
       "      <td>218.60</td>\n",
       "      <td>205.90</td>\n",
       "      <td>210.25</td>\n",
       "      <td>209.20</td>\n",
       "      <td>3519515.0</td>\n",
       "      <td>7407.06</td>\n",
       "    </tr>\n",
       "    <tr>\n",
       "      <th>2018-10-04</th>\n",
       "      <td>2018-10-04</td>\n",
       "      <td>223.50</td>\n",
       "      <td>227.80</td>\n",
       "      <td>216.15</td>\n",
       "      <td>217.25</td>\n",
       "      <td>218.20</td>\n",
       "      <td>1728786.0</td>\n",
       "      <td>3815.79</td>\n",
       "    </tr>\n",
       "    <tr>\n",
       "      <th>2018-10-03</th>\n",
       "      <td>2018-10-03</td>\n",
       "      <td>230.00</td>\n",
       "      <td>237.50</td>\n",
       "      <td>225.75</td>\n",
       "      <td>226.45</td>\n",
       "      <td>227.60</td>\n",
       "      <td>1708590.0</td>\n",
       "      <td>3960.27</td>\n",
       "    </tr>\n",
       "    <tr>\n",
       "      <th>2018-10-01</th>\n",
       "      <td>2018-10-01</td>\n",
       "      <td>234.55</td>\n",
       "      <td>234.60</td>\n",
       "      <td>221.05</td>\n",
       "      <td>230.30</td>\n",
       "      <td>230.90</td>\n",
       "      <td>1534749.0</td>\n",
       "      <td>3486.05</td>\n",
       "    </tr>\n",
       "    <tr>\n",
       "      <th>...</th>\n",
       "      <td>...</td>\n",
       "      <td>...</td>\n",
       "      <td>...</td>\n",
       "      <td>...</td>\n",
       "      <td>...</td>\n",
       "      <td>...</td>\n",
       "      <td>...</td>\n",
       "      <td>...</td>\n",
       "    </tr>\n",
       "    <tr>\n",
       "      <th>2013-10-14</th>\n",
       "      <td>2013-10-14</td>\n",
       "      <td>160.85</td>\n",
       "      <td>161.45</td>\n",
       "      <td>157.70</td>\n",
       "      <td>159.30</td>\n",
       "      <td>159.45</td>\n",
       "      <td>1281419.0</td>\n",
       "      <td>2039.09</td>\n",
       "    </tr>\n",
       "    <tr>\n",
       "      <th>2013-10-11</th>\n",
       "      <td>2013-10-11</td>\n",
       "      <td>161.15</td>\n",
       "      <td>163.45</td>\n",
       "      <td>159.00</td>\n",
       "      <td>159.80</td>\n",
       "      <td>160.05</td>\n",
       "      <td>1880046.0</td>\n",
       "      <td>3030.76</td>\n",
       "    </tr>\n",
       "    <tr>\n",
       "      <th>2013-10-10</th>\n",
       "      <td>2013-10-10</td>\n",
       "      <td>156.00</td>\n",
       "      <td>160.80</td>\n",
       "      <td>155.85</td>\n",
       "      <td>160.30</td>\n",
       "      <td>160.15</td>\n",
       "      <td>3124853.0</td>\n",
       "      <td>4978.80</td>\n",
       "    </tr>\n",
       "    <tr>\n",
       "      <th>2013-10-09</th>\n",
       "      <td>2013-10-09</td>\n",
       "      <td>155.70</td>\n",
       "      <td>158.20</td>\n",
       "      <td>154.15</td>\n",
       "      <td>155.30</td>\n",
       "      <td>155.55</td>\n",
       "      <td>2049580.0</td>\n",
       "      <td>3204.49</td>\n",
       "    </tr>\n",
       "    <tr>\n",
       "      <th>2013-10-08</th>\n",
       "      <td>2013-10-08</td>\n",
       "      <td>157.00</td>\n",
       "      <td>157.80</td>\n",
       "      <td>155.20</td>\n",
       "      <td>155.80</td>\n",
       "      <td>155.80</td>\n",
       "      <td>1720413.0</td>\n",
       "      <td>2688.94</td>\n",
       "    </tr>\n",
       "  </tbody>\n",
       "</table>\n",
       "<p>1235 rows × 8 columns</p>\n",
       "</div>"
      ],
      "text/plain": [
       "                 Date    Open    High     Low    Last   Close  \\\n",
       "Date                                                            \n",
       "2018-10-08 2018-10-08  208.00  222.25  206.85  216.00  215.15   \n",
       "2018-10-05 2018-10-05  217.00  218.60  205.90  210.25  209.20   \n",
       "2018-10-04 2018-10-04  223.50  227.80  216.15  217.25  218.20   \n",
       "2018-10-03 2018-10-03  230.00  237.50  225.75  226.45  227.60   \n",
       "2018-10-01 2018-10-01  234.55  234.60  221.05  230.30  230.90   \n",
       "...               ...     ...     ...     ...     ...     ...   \n",
       "2013-10-14 2013-10-14  160.85  161.45  157.70  159.30  159.45   \n",
       "2013-10-11 2013-10-11  161.15  163.45  159.00  159.80  160.05   \n",
       "2013-10-10 2013-10-10  156.00  160.80  155.85  160.30  160.15   \n",
       "2013-10-09 2013-10-09  155.70  158.20  154.15  155.30  155.55   \n",
       "2013-10-08 2013-10-08  157.00  157.80  155.20  155.80  155.80   \n",
       "\n",
       "            Total Trade Quantity  Turnover (Lacs)  \n",
       "Date                                               \n",
       "2018-10-08             4642146.0         10062.83  \n",
       "2018-10-05             3519515.0          7407.06  \n",
       "2018-10-04             1728786.0          3815.79  \n",
       "2018-10-03             1708590.0          3960.27  \n",
       "2018-10-01             1534749.0          3486.05  \n",
       "...                          ...              ...  \n",
       "2013-10-14             1281419.0          2039.09  \n",
       "2013-10-11             1880046.0          3030.76  \n",
       "2013-10-10             3124853.0          4978.80  \n",
       "2013-10-09             2049580.0          3204.49  \n",
       "2013-10-08             1720413.0          2688.94  \n",
       "\n",
       "[1235 rows x 8 columns]"
      ]
     },
     "execution_count": 6,
     "metadata": {},
     "output_type": "execute_result"
    }
   ],
   "source": [
    "df['Date']=pd.to_datetime(df['Date'])\n",
    "df.index=df['Date']\n",
    "df"
   ]
  },
  {
   "cell_type": "code",
   "execution_count": 7,
   "id": "87bf87c8",
   "metadata": {
    "execution": {
     "iopub.execute_input": "2024-06-25T19:26:22.566086Z",
     "iopub.status.busy": "2024-06-25T19:26:22.565714Z",
     "iopub.status.idle": "2024-06-25T19:26:22.958841Z",
     "shell.execute_reply": "2024-06-25T19:26:22.957720Z"
    },
    "papermill": {
     "duration": 0.403476,
     "end_time": "2024-06-25T19:26:22.961090",
     "exception": false,
     "start_time": "2024-06-25T19:26:22.557614",
     "status": "completed"
    },
    "tags": []
   },
   "outputs": [
    {
     "data": {
      "text/plain": [
       "[<matplotlib.lines.Line2D at 0x7975abc0be20>]"
      ]
     },
     "execution_count": 7,
     "metadata": {},
     "output_type": "execute_result"
    },
    {
     "data": {
      "image/png": "[encoded data removed]",
      "text/plain": [
       "<Figure size 1800x900 with 1 Axes>"
      ]
     },
     "metadata": {},
     "output_type": "display_data"
    }
   ],
   "source": [
    "plt.figure(figsize=(18,9))\n",
    "plt.plot(df['Close'],label='The Closing Prices')"
   ]
  },
  {
   "cell_type": "code",
   "execution_count": 8,
   "id": "ec5f9669",
   "metadata": {
    "execution": {
     "iopub.execute_input": "2024-06-25T19:26:22.979377Z",
     "iopub.status.busy": "2024-06-25T19:26:22.978652Z",
     "iopub.status.idle": "2024-06-25T19:26:23.001359Z",
     "shell.execute_reply": "2024-06-25T19:26:23.000268Z"
    },
    "papermill": {
     "duration": 0.034195,
     "end_time": "2024-06-25T19:26:23.003591",
     "exception": false,
     "start_time": "2024-06-25T19:26:22.969396",
     "status": "completed"
    },
    "tags": []
   },
   "outputs": [
    {
     "data": {
      "text/html": [
       "<div>\n",
       "<style scoped>\n",
       "    .dataframe tbody tr th:only-of-type {\n",
       "        vertical-align: middle;\n",
       "    }\n",
       "\n",
       "    .dataframe tbody tr th {\n",
       "        vertical-align: top;\n",
       "    }\n",
       "\n",
       "    .dataframe thead th {\n",
       "        text-align: right;\n",
       "    }\n",
       "</style>\n",
       "<table border=\"1\" class=\"dataframe\">\n",
       "  <thead>\n",
       "    <tr style=\"text-align: right;\">\n",
       "      <th></th>\n",
       "      <th>Date</th>\n",
       "      <th>Open</th>\n",
       "      <th>High</th>\n",
       "      <th>Low</th>\n",
       "      <th>Last</th>\n",
       "      <th>Close</th>\n",
       "      <th>Total Trade Quantity</th>\n",
       "      <th>Turnover (Lacs)</th>\n",
       "    </tr>\n",
       "    <tr>\n",
       "      <th>Date</th>\n",
       "      <th></th>\n",
       "      <th></th>\n",
       "      <th></th>\n",
       "      <th></th>\n",
       "      <th></th>\n",
       "      <th></th>\n",
       "      <th></th>\n",
       "      <th></th>\n",
       "    </tr>\n",
       "  </thead>\n",
       "  <tbody>\n",
       "    <tr>\n",
       "      <th>2013-10-08</th>\n",
       "      <td>2013-10-08</td>\n",
       "      <td>157.00</td>\n",
       "      <td>157.80</td>\n",
       "      <td>155.20</td>\n",
       "      <td>155.80</td>\n",
       "      <td>155.80</td>\n",
       "      <td>1720413.0</td>\n",
       "      <td>2688.94</td>\n",
       "    </tr>\n",
       "    <tr>\n",
       "      <th>2013-10-09</th>\n",
       "      <td>2013-10-09</td>\n",
       "      <td>155.70</td>\n",
       "      <td>158.20</td>\n",
       "      <td>154.15</td>\n",
       "      <td>155.30</td>\n",
       "      <td>155.55</td>\n",
       "      <td>2049580.0</td>\n",
       "      <td>3204.49</td>\n",
       "    </tr>\n",
       "    <tr>\n",
       "      <th>2013-10-10</th>\n",
       "      <td>2013-10-10</td>\n",
       "      <td>156.00</td>\n",
       "      <td>160.80</td>\n",
       "      <td>155.85</td>\n",
       "      <td>160.30</td>\n",
       "      <td>160.15</td>\n",
       "      <td>3124853.0</td>\n",
       "      <td>4978.80</td>\n",
       "    </tr>\n",
       "    <tr>\n",
       "      <th>2013-10-11</th>\n",
       "      <td>2013-10-11</td>\n",
       "      <td>161.15</td>\n",
       "      <td>163.45</td>\n",
       "      <td>159.00</td>\n",
       "      <td>159.80</td>\n",
       "      <td>160.05</td>\n",
       "      <td>1880046.0</td>\n",
       "      <td>3030.76</td>\n",
       "    </tr>\n",
       "    <tr>\n",
       "      <th>2013-10-14</th>\n",
       "      <td>2013-10-14</td>\n",
       "      <td>160.85</td>\n",
       "      <td>161.45</td>\n",
       "      <td>157.70</td>\n",
       "      <td>159.30</td>\n",
       "      <td>159.45</td>\n",
       "      <td>1281419.0</td>\n",
       "      <td>2039.09</td>\n",
       "    </tr>\n",
       "    <tr>\n",
       "      <th>...</th>\n",
       "      <td>...</td>\n",
       "      <td>...</td>\n",
       "      <td>...</td>\n",
       "      <td>...</td>\n",
       "      <td>...</td>\n",
       "      <td>...</td>\n",
       "      <td>...</td>\n",
       "      <td>...</td>\n",
       "    </tr>\n",
       "    <tr>\n",
       "      <th>2018-10-01</th>\n",
       "      <td>2018-10-01</td>\n",
       "      <td>234.55</td>\n",
       "      <td>234.60</td>\n",
       "      <td>221.05</td>\n",
       "      <td>230.30</td>\n",
       "      <td>230.90</td>\n",
       "      <td>1534749.0</td>\n",
       "      <td>3486.05</td>\n",
       "    </tr>\n",
       "    <tr>\n",
       "      <th>2018-10-03</th>\n",
       "      <td>2018-10-03</td>\n",
       "      <td>230.00</td>\n",
       "      <td>237.50</td>\n",
       "      <td>225.75</td>\n",
       "      <td>226.45</td>\n",
       "      <td>227.60</td>\n",
       "      <td>1708590.0</td>\n",
       "      <td>3960.27</td>\n",
       "    </tr>\n",
       "    <tr>\n",
       "      <th>2018-10-04</th>\n",
       "      <td>2018-10-04</td>\n",
       "      <td>223.50</td>\n",
       "      <td>227.80</td>\n",
       "      <td>216.15</td>\n",
       "      <td>217.25</td>\n",
       "      <td>218.20</td>\n",
       "      <td>1728786.0</td>\n",
       "      <td>3815.79</td>\n",
       "    </tr>\n",
       "    <tr>\n",
       "      <th>2018-10-05</th>\n",
       "      <td>2018-10-05</td>\n",
       "      <td>217.00</td>\n",
       "      <td>218.60</td>\n",
       "      <td>205.90</td>\n",
       "      <td>210.25</td>\n",
       "      <td>209.20</td>\n",
       "      <td>3519515.0</td>\n",
       "      <td>7407.06</td>\n",
       "    </tr>\n",
       "    <tr>\n",
       "      <th>2018-10-08</th>\n",
       "      <td>2018-10-08</td>\n",
       "      <td>208.00</td>\n",
       "      <td>222.25</td>\n",
       "      <td>206.85</td>\n",
       "      <td>216.00</td>\n",
       "      <td>215.15</td>\n",
       "      <td>4642146.0</td>\n",
       "      <td>10062.83</td>\n",
       "    </tr>\n",
       "  </tbody>\n",
       "</table>\n",
       "<p>1235 rows × 8 columns</p>\n",
       "</div>"
      ],
      "text/plain": [
       "                 Date    Open    High     Low    Last   Close  \\\n",
       "Date                                                            \n",
       "2013-10-08 2013-10-08  157.00  157.80  155.20  155.80  155.80   \n",
       "2013-10-09 2013-10-09  155.70  158.20  154.15  155.30  155.55   \n",
       "2013-10-10 2013-10-10  156.00  160.80  155.85  160.30  160.15   \n",
       "2013-10-11 2013-10-11  161.15  163.45  159.00  159.80  160.05   \n",
       "2013-10-14 2013-10-14  160.85  161.45  157.70  159.30  159.45   \n",
       "...               ...     ...     ...     ...     ...     ...   \n",
       "2018-10-01 2018-10-01  234.55  234.60  221.05  230.30  230.90   \n",
       "2018-10-03 2018-10-03  230.00  237.50  225.75  226.45  227.60   \n",
       "2018-10-04 2018-10-04  223.50  227.80  216.15  217.25  218.20   \n",
       "2018-10-05 2018-10-05  217.00  218.60  205.90  210.25  209.20   \n",
       "2018-10-08 2018-10-08  208.00  222.25  206.85  216.00  215.15   \n",
       "\n",
       "            Total Trade Quantity  Turnover (Lacs)  \n",
       "Date                                               \n",
       "2013-10-08             1720413.0          2688.94  \n",
       "2013-10-09             2049580.0          3204.49  \n",
       "2013-10-10             3124853.0          4978.80  \n",
       "2013-10-11             1880046.0          3030.76  \n",
       "2013-10-14             1281419.0          2039.09  \n",
       "...                          ...              ...  \n",
       "2018-10-01             1534749.0          3486.05  \n",
       "2018-10-03             1708590.0          3960.27  \n",
       "2018-10-04             1728786.0          3815.79  \n",
       "2018-10-05             3519515.0          7407.06  \n",
       "2018-10-08             4642146.0         10062.83  \n",
       "\n",
       "[1235 rows x 8 columns]"
      ]
     },
     "execution_count": 8,
     "metadata": {},
     "output_type": "execute_result"
    }
   ],
   "source": [
    "sorted_df=df.sort_index(ascending=True,axis=0)\n",
    "#sorted_df.set_index('Date', inplace=True)\n",
    "#sorted_df=sorted_df.sort_index(ascending=True,axis=0)\n",
    "new_df=pd.DataFrame(index=range(0,len(df)),columns=['Date','Close'])\n",
    "sorted_df"
   ]
  },
  {
   "cell_type": "code",
   "execution_count": 9,
   "id": "1ac2e670",
   "metadata": {
    "execution": {
     "iopub.execute_input": "2024-06-25T19:26:23.022335Z",
     "iopub.status.busy": "2024-06-25T19:26:23.021929Z",
     "iopub.status.idle": "2024-06-25T19:26:23.356294Z",
     "shell.execute_reply": "2024-06-25T19:26:23.355091Z"
    },
    "papermill": {
     "duration": 0.346272,
     "end_time": "2024-06-25T19:26:23.358542",
     "exception": false,
     "start_time": "2024-06-25T19:26:23.012270",
     "status": "completed"
    },
    "tags": []
   },
   "outputs": [
    {
     "name": "stderr",
     "output_type": "stream",
     "text": [
      "/tmp/ipykernel_18/601483894.py:2: FutureWarning: Series.__getitem__ treating keys as positions is deprecated. In a future version, integer keys will always be treated as labels (consistent with DataFrame behavior). To access a value by position, use `ser.iloc[pos]`\n",
      "  new_df['Date'][i]=sorted_df['Date'][i]\n",
      "/tmp/ipykernel_18/601483894.py:2: FutureWarning: ChainedAssignmentError: behaviour will change in pandas 3.0!\n",
      "You are setting values through chained assignment. Currently this works in certain cases, but when using Copy-on-Write (which will become the default behaviour in pandas 3.0) this will never work to update the original DataFrame or Series, because the intermediate object on which we are setting values will behave as a copy.\n",
      "A typical example is when you are setting values in a column of a DataFrame, like:\n",
      "\n",
      "df[\"col\"][row_indexer] = value\n",
      "\n",
      "Use `df.loc[row_indexer, \"col\"] = values` instead, to perform the assignment in a single step and ensure this keeps updating the original `df`.\n",
      "\n",
      "See the caveats in the documentation: https://pandas.pydata.org/pandas-docs/stable/user_guide/indexing.html#returning-a-view-versus-a-copy\n",
      "\n",
      "  new_df['Date'][i]=sorted_df['Date'][i]\n",
      "/tmp/ipykernel_18/601483894.py:3: FutureWarning: Series.__getitem__ treating keys as positions is deprecated. In a future version, integer keys will always be treated as labels (consistent with DataFrame behavior). To access a value by position, use `ser.iloc[pos]`\n",
      "  new_df['Close'][i]=sorted_df['Close'][i]\n",
      "/tmp/ipykernel_18/601483894.py:3: FutureWarning: ChainedAssignmentError: behaviour will change in pandas 3.0!\n",
      "You are setting values through chained assignment. Currently this works in certain cases, but when using Copy-on-Write (which will become the default behaviour in pandas 3.0) this will never work to update the original DataFrame or Series, because the intermediate object on which we are setting values will behave as a copy.\n",
      "A typical example is when you are setting values in a column of a DataFrame, like:\n",
      "\n",
      "df[\"col\"][row_indexer] = value\n",
      "\n",
      "Use `df.loc[row_indexer, \"col\"] = values` instead, to perform the assignment in a single step and ensure this keeps updating the original `df`.\n",
      "\n",
      "See the caveats in the documentation: https://pandas.pydata.org/pandas-docs/stable/user_guide/indexing.html#returning-a-view-versus-a-copy\n",
      "\n",
      "  new_df['Close'][i]=sorted_df['Close'][i]\n"
     ]
    },
    {
     "data": {
      "text/html": [
       "<div>\n",
       "<style scoped>\n",
       "    .dataframe tbody tr th:only-of-type {\n",
       "        vertical-align: middle;\n",
       "    }\n",
       "\n",
       "    .dataframe tbody tr th {\n",
       "        vertical-align: top;\n",
       "    }\n",
       "\n",
       "    .dataframe thead th {\n",
       "        text-align: right;\n",
       "    }\n",
       "</style>\n",
       "<table border=\"1\" class=\"dataframe\">\n",
       "  <thead>\n",
       "    <tr style=\"text-align: right;\">\n",
       "      <th></th>\n",
       "      <th>Date</th>\n",
       "      <th>Close</th>\n",
       "    </tr>\n",
       "  </thead>\n",
       "  <tbody>\n",
       "    <tr>\n",
       "      <th>0</th>\n",
       "      <td>2013-10-08 00:00:00</td>\n",
       "      <td>155.8</td>\n",
       "    </tr>\n",
       "    <tr>\n",
       "      <th>1</th>\n",
       "      <td>2013-10-09 00:00:00</td>\n",
       "      <td>155.55</td>\n",
       "    </tr>\n",
       "    <tr>\n",
       "      <th>2</th>\n",
       "      <td>2013-10-10 00:00:00</td>\n",
       "      <td>160.15</td>\n",
       "    </tr>\n",
       "    <tr>\n",
       "      <th>3</th>\n",
       "      <td>2013-10-11 00:00:00</td>\n",
       "      <td>160.05</td>\n",
       "    </tr>\n",
       "    <tr>\n",
       "      <th>4</th>\n",
       "      <td>2013-10-14 00:00:00</td>\n",
       "      <td>159.45</td>\n",
       "    </tr>\n",
       "  </tbody>\n",
       "</table>\n",
       "</div>"
      ],
      "text/plain": [
       "                  Date   Close\n",
       "0  2013-10-08 00:00:00   155.8\n",
       "1  2013-10-09 00:00:00  155.55\n",
       "2  2013-10-10 00:00:00  160.15\n",
       "3  2013-10-11 00:00:00  160.05\n",
       "4  2013-10-14 00:00:00  159.45"
      ]
     },
     "execution_count": 9,
     "metadata": {},
     "output_type": "execute_result"
    }
   ],
   "source": [
    "for i in range(len(df)):\n",
    "  new_df['Date'][i]=sorted_df['Date'][i]\n",
    "  new_df['Close'][i]=sorted_df['Close'][i]\n",
    "new_df.head()"
   ]
  },
  {
   "cell_type": "code",
   "execution_count": 10,
   "id": "a79a494c",
   "metadata": {
    "execution": {
     "iopub.execute_input": "2024-06-25T19:26:23.378115Z",
     "iopub.status.busy": "2024-06-25T19:26:23.377345Z",
     "iopub.status.idle": "2024-06-25T19:26:23.382920Z",
     "shell.execute_reply": "2024-06-25T19:26:23.381986Z"
    },
    "papermill": {
     "duration": 0.01783,
     "end_time": "2024-06-25T19:26:23.385175",
     "exception": false,
     "start_time": "2024-06-25T19:26:23.367345",
     "status": "completed"
    },
    "tags": []
   },
   "outputs": [
    {
     "name": "stdout",
     "output_type": "stream",
     "text": [
      "[[Timestamp('2013-10-08 00:00:00') 155.8]\n",
      " [Timestamp('2013-10-09 00:00:00') 155.55]\n",
      " [Timestamp('2013-10-10 00:00:00') 160.15]\n",
      " ...\n",
      " [Timestamp('2018-10-04 00:00:00') 218.2]\n",
      " [Timestamp('2018-10-05 00:00:00') 209.2]\n",
      " [Timestamp('2018-10-08 00:00:00') 215.15]]\n"
     ]
    }
   ],
   "source": [
    "final_df=new_df.values\n",
    "print(final_df)"
   ]
  },
  {
   "cell_type": "code",
   "execution_count": 11,
   "id": "0cc52689",
   "metadata": {
    "execution": {
     "iopub.execute_input": "2024-06-25T19:26:23.404257Z",
     "iopub.status.busy": "2024-06-25T19:26:23.403869Z",
     "iopub.status.idle": "2024-06-25T19:26:23.409956Z",
     "shell.execute_reply": "2024-06-25T19:26:23.409042Z"
    },
    "papermill": {
     "duration": 0.01807,
     "end_time": "2024-06-25T19:26:23.411993",
     "exception": false,
     "start_time": "2024-06-25T19:26:23.393923",
     "status": "completed"
    },
    "tags": []
   },
   "outputs": [
    {
     "data": {
      "text/plain": [
       "1235"
      ]
     },
     "execution_count": 11,
     "metadata": {},
     "output_type": "execute_result"
    }
   ],
   "source": [
    "len(final_df)"
   ]
  },
  {
   "cell_type": "code",
   "execution_count": 12,
   "id": "2bf6822d",
   "metadata": {
    "execution": {
     "iopub.execute_input": "2024-06-25T19:26:23.432374Z",
     "iopub.status.busy": "2024-06-25T19:26:23.431475Z",
     "iopub.status.idle": "2024-06-25T19:26:23.453749Z",
     "shell.execute_reply": "2024-06-25T19:26:23.452725Z"
    },
    "papermill": {
     "duration": 0.034406,
     "end_time": "2024-06-25T19:26:23.455977",
     "exception": false,
     "start_time": "2024-06-25T19:26:23.421571",
     "status": "completed"
    },
    "tags": []
   },
   "outputs": [
    {
     "name": "stderr",
     "output_type": "stream",
     "text": [
      "/opt/conda/lib/python3.10/site-packages/pandas/core/indexes/base.py:7631: FutureWarning: Dtype inference on a pandas object (Series, Index, ExtensionArray) is deprecated. The Index constructor will keep the original dtype in the future. Call `infer_objects` on the result to get the old behavior.\n",
      "  return Index(index_like, name=name, copy=copy)\n"
     ]
    },
    {
     "data": {
      "text/html": [
       "<div>\n",
       "<style scoped>\n",
       "    .dataframe tbody tr th:only-of-type {\n",
       "        vertical-align: middle;\n",
       "    }\n",
       "\n",
       "    .dataframe tbody tr th {\n",
       "        vertical-align: top;\n",
       "    }\n",
       "\n",
       "    .dataframe thead th {\n",
       "        text-align: right;\n",
       "    }\n",
       "</style>\n",
       "<table border=\"1\" class=\"dataframe\">\n",
       "  <thead>\n",
       "    <tr style=\"text-align: right;\">\n",
       "      <th></th>\n",
       "      <th>Close</th>\n",
       "    </tr>\n",
       "    <tr>\n",
       "      <th>Date</th>\n",
       "      <th></th>\n",
       "    </tr>\n",
       "  </thead>\n",
       "  <tbody>\n",
       "    <tr>\n",
       "      <th>2013-10-08</th>\n",
       "      <td>155.8</td>\n",
       "    </tr>\n",
       "    <tr>\n",
       "      <th>2013-10-09</th>\n",
       "      <td>155.55</td>\n",
       "    </tr>\n",
       "    <tr>\n",
       "      <th>2013-10-10</th>\n",
       "      <td>160.15</td>\n",
       "    </tr>\n",
       "    <tr>\n",
       "      <th>2013-10-11</th>\n",
       "      <td>160.05</td>\n",
       "    </tr>\n",
       "    <tr>\n",
       "      <th>2013-10-14</th>\n",
       "      <td>159.45</td>\n",
       "    </tr>\n",
       "    <tr>\n",
       "      <th>...</th>\n",
       "      <td>...</td>\n",
       "    </tr>\n",
       "    <tr>\n",
       "      <th>2018-10-01</th>\n",
       "      <td>230.9</td>\n",
       "    </tr>\n",
       "    <tr>\n",
       "      <th>2018-10-03</th>\n",
       "      <td>227.6</td>\n",
       "    </tr>\n",
       "    <tr>\n",
       "      <th>2018-10-04</th>\n",
       "      <td>218.2</td>\n",
       "    </tr>\n",
       "    <tr>\n",
       "      <th>2018-10-05</th>\n",
       "      <td>209.2</td>\n",
       "    </tr>\n",
       "    <tr>\n",
       "      <th>2018-10-08</th>\n",
       "      <td>215.15</td>\n",
       "    </tr>\n",
       "  </tbody>\n",
       "</table>\n",
       "<p>1235 rows × 1 columns</p>\n",
       "</div>"
      ],
      "text/plain": [
       "             Close\n",
       "Date              \n",
       "2013-10-08   155.8\n",
       "2013-10-09  155.55\n",
       "2013-10-10  160.15\n",
       "2013-10-11  160.05\n",
       "2013-10-14  159.45\n",
       "...            ...\n",
       "2018-10-01   230.9\n",
       "2018-10-03   227.6\n",
       "2018-10-04   218.2\n",
       "2018-10-05   209.2\n",
       "2018-10-08  215.15\n",
       "\n",
       "[1235 rows x 1 columns]"
      ]
     },
     "execution_count": 12,
     "metadata": {},
     "output_type": "execute_result"
    }
   ],
   "source": [
    "train_data=final_df[0:980,:]\n",
    "val_data=final_df[980:,:]\n",
    "\n",
    "new_df.index=new_df['Date']\n",
    "new_df.drop('Date',axis=1,inplace=True)\n",
    "new_df"
   ]
  },
  {
   "cell_type": "code",
   "execution_count": 13,
   "id": "60ccaa8b",
   "metadata": {
    "execution": {
     "iopub.execute_input": "2024-06-25T19:26:23.476474Z",
     "iopub.status.busy": "2024-06-25T19:26:23.475645Z",
     "iopub.status.idle": "2024-06-25T19:26:23.483739Z",
     "shell.execute_reply": "2024-06-25T19:26:23.482785Z"
    },
    "papermill": {
     "duration": 0.020687,
     "end_time": "2024-06-25T19:26:23.485981",
     "exception": false,
     "start_time": "2024-06-25T19:26:23.465294",
     "status": "completed"
    },
    "tags": []
   },
   "outputs": [
    {
     "data": {
      "text/plain": [
       "array([[0.23823398],\n",
       "       [0.2371134 ],\n",
       "       [0.25773196],\n",
       "       ...,\n",
       "       [0.51792918],\n",
       "       [0.47758853],\n",
       "       [0.50425818]])"
      ]
     },
     "execution_count": 13,
     "metadata": {},
     "output_type": "execute_result"
    }
   ],
   "source": [
    "scaler=MinMaxScaler(feature_range=(0,1))\n",
    "scaled_data=scaler.fit_transform(new_df.values)\n",
    "scaled_data"
   ]
  },
  {
   "cell_type": "code",
   "execution_count": 14,
   "id": "86ec5ef2",
   "metadata": {
    "execution": {
     "iopub.execute_input": "2024-06-25T19:26:23.507124Z",
     "iopub.status.busy": "2024-06-25T19:26:23.505944Z",
     "iopub.status.idle": "2024-06-25T19:26:23.512419Z",
     "shell.execute_reply": "2024-06-25T19:26:23.511522Z"
    },
    "papermill": {
     "duration": 0.018956,
     "end_time": "2024-06-25T19:26:23.514389",
     "exception": false,
     "start_time": "2024-06-25T19:26:23.495433",
     "status": "completed"
    },
    "tags": []
   },
   "outputs": [],
   "source": [
    "X_train=[]\n",
    "Y_train=[]\n",
    "for i in range(60,len(train_data)):\n",
    "  X_train.append(scaled_data[i-60:i,0])\n",
    "  Y_train.append(scaled_data[i,0])"
   ]
  },
  {
   "cell_type": "code",
   "execution_count": 15,
   "id": "94d5902f",
   "metadata": {
    "execution": {
     "iopub.execute_input": "2024-06-25T19:26:23.534941Z",
     "iopub.status.busy": "2024-06-25T19:26:23.534325Z",
     "iopub.status.idle": "2024-06-25T19:26:23.540296Z",
     "shell.execute_reply": "2024-06-25T19:26:23.539467Z"
    },
    "papermill": {
     "duration": 0.018442,
     "end_time": "2024-06-25T19:26:23.542314",
     "exception": false,
     "start_time": "2024-06-25T19:26:23.523872",
     "status": "completed"
    },
    "tags": []
   },
   "outputs": [],
   "source": [
    "X_train = np.array(X_train)\n",
    "Y_train = np.array(Y_train)\n",
    "\n",
    "X_train=np.reshape(X_train,(X_train.shape[0],X_train.shape[1],1))\n"
   ]
  },
  {
   "cell_type": "code",
   "execution_count": 16,
   "id": "2d785882",
   "metadata": {
    "execution": {
     "iopub.execute_input": "2024-06-25T19:26:23.562797Z",
     "iopub.status.busy": "2024-06-25T19:26:23.562168Z",
     "iopub.status.idle": "2024-06-25T19:26:23.568856Z",
     "shell.execute_reply": "2024-06-25T19:26:23.567819Z"
    },
    "papermill": {
     "duration": 0.019494,
     "end_time": "2024-06-25T19:26:23.571100",
     "exception": false,
     "start_time": "2024-06-25T19:26:23.551606",
     "status": "completed"
    },
    "tags": []
   },
   "outputs": [
    {
     "data": {
      "text/plain": [
       "(920, 60, 1)"
      ]
     },
     "execution_count": 16,
     "metadata": {},
     "output_type": "execute_result"
    }
   ],
   "source": [
    "X_train.shape"
   ]
  },
  {
   "cell_type": "code",
   "execution_count": 17,
   "id": "7852b862",
   "metadata": {
    "execution": {
     "iopub.execute_input": "2024-06-25T19:26:23.592844Z",
     "iopub.status.busy": "2024-06-25T19:26:23.591954Z",
     "iopub.status.idle": "2024-06-25T19:26:23.708141Z",
     "shell.execute_reply": "2024-06-25T19:26:23.707165Z"
    },
    "papermill": {
     "duration": 0.129334,
     "end_time": "2024-06-25T19:26:23.710547",
     "exception": false,
     "start_time": "2024-06-25T19:26:23.581213",
     "status": "completed"
    },
    "tags": []
   },
   "outputs": [
    {
     "name": "stderr",
     "output_type": "stream",
     "text": [
      "/opt/conda/lib/python3.10/site-packages/keras/src/layers/rnn/rnn.py:204: UserWarning: Do not pass an `input_shape`/`input_dim` argument to a layer. When using Sequential models, prefer using an `Input(shape)` object as the first layer in the model instead.\n",
      "  super().__init__(**kwargs)\n"
     ]
    }
   ],
   "source": [
    "lstm_model=Sequential()\n",
    "lstm_model.add(LSTM(units=50,return_sequences=True,input_shape=(X_train.shape[1],1)))\n",
    "lstm_model.add(LSTM(units=50))\n",
    "lstm_model.add(Dense(1))"
   ]
  },
  {
   "cell_type": "code",
   "execution_count": 18,
   "id": "62146793",
   "metadata": {
    "execution": {
     "iopub.execute_input": "2024-06-25T19:26:23.732969Z",
     "iopub.status.busy": "2024-06-25T19:26:23.732605Z",
     "iopub.status.idle": "2024-06-25T19:26:23.750380Z",
     "shell.execute_reply": "2024-06-25T19:26:23.749359Z"
    },
    "papermill": {
     "duration": 0.030547,
     "end_time": "2024-06-25T19:26:23.752330",
     "exception": false,
     "start_time": "2024-06-25T19:26:23.721783",
     "status": "completed"
    },
    "tags": []
   },
   "outputs": [
    {
     "data": {
      "text/html": [
       "<pre style=\"white-space:pre;overflow-x:auto;line-height:normal;font-family:Menlo,'DejaVu Sans Mono',consolas,'Courier New',monospace\"><span style=\"font-weight: bold\">Model: \"sequential\"</span>\n",
       "</pre>\n"
      ],
      "text/plain": [
       "\u001b[1mModel: \"sequential\"\u001b[0m\n"
      ]
     },
     "metadata": {},
     "output_type": "display_data"
    },
    {
     "data": {
      "text/html": [
       "<pre style=\"white-space:pre;overflow-x:auto;line-height:normal;font-family:Menlo,'DejaVu Sans Mono',consolas,'Courier New',monospace\">┏━━━━━━━━━━━━━━━━━━━━━━━━━━━━━━━━━┳━━━━━━━━━━━━━━━━━━━━━━━━┳━━━━━━━━━━━━━━━┓\n",
       "┃<span style=\"font-weight: bold\"> Layer (type)                    </span>┃<span style=\"font-weight: bold\"> Output Shape           </span>┃<span style=\"font-weight: bold\">       Param # </span>┃\n",
       "┡━━━━━━━━━━━━━━━━━━━━━━━━━━━━━━━━━╇━━━━━━━━━━━━━━━━━━━━━━━━╇━━━━━━━━━━━━━━━┩\n",
       "│ lstm (<span style=\"color: #0087ff; text-decoration-color: #0087ff\">LSTM</span>)                     │ (<span style=\"color: #00d7ff; text-decoration-color: #00d7ff\">None</span>, <span style=\"color: #00af00; text-decoration-color: #00af00\">60</span>, <span style=\"color: #00af00; text-decoration-color: #00af00\">50</span>)         │        <span style=\"color: #00af00; text-decoration-color: #00af00\">10,400</span> │\n",
       "├─────────────────────────────────┼────────────────────────┼───────────────┤\n",
       "│ lstm_1 (<span style=\"color: #0087ff; text-decoration-color: #0087ff\">LSTM</span>)                   │ (<span style=\"color: #00d7ff; text-decoration-color: #00d7ff\">None</span>, <span style=\"color: #00af00; text-decoration-color: #00af00\">50</span>)             │        <span style=\"color: #00af00; text-decoration-color: #00af00\">20,200</span> │\n",
       "├─────────────────────────────────┼────────────────────────┼───────────────┤\n",
       "│ dense (<span style=\"color: #0087ff; text-decoration-color: #0087ff\">Dense</span>)                   │ (<span style=\"color: #00d7ff; text-decoration-color: #00d7ff\">None</span>, <span style=\"color: #00af00; text-decoration-color: #00af00\">1</span>)              │            <span style=\"color: #00af00; text-decoration-color: #00af00\">51</span> │\n",
       "└─────────────────────────────────┴────────────────────────┴───────────────┘\n",
       "</pre>\n"
      ],
      "text/plain": [
       "┏━━━━━━━━━━━━━━━━━━━━━━━━━━━━━━━━━┳━━━━━━━━━━━━━━━━━━━━━━━━┳━━━━━━━━━━━━━━━┓\n",
       "┃\u001b[1m \u001b[0m\u001b[1mLayer (type)                   \u001b[0m\u001b[1m \u001b[0m┃\u001b[1m \u001b[0m\u001b[1mOutput Shape          \u001b[0m\u001b[1m \u001b[0m┃\u001b[1m \u001b[0m\u001b[1m      Param #\u001b[0m\u001b[1m \u001b[0m┃\n",
       "┡━━━━━━━━━━━━━━━━━━━━━━━━━━━━━━━━━╇━━━━━━━━━━━━━━━━━━━━━━━━╇━━━━━━━━━━━━━━━┩\n",
       "│ lstm (\u001b[38;5;33mLSTM\u001b[0m)                     │ (\u001b[38;5;45mNone\u001b[0m, \u001b[38;5;34m60\u001b[0m, \u001b[38;5;34m50\u001b[0m)         │        \u001b[38;5;34m10,400\u001b[0m │\n",
       "├─────────────────────────────────┼────────────────────────┼───────────────┤\n",
       "│ lstm_1 (\u001b[38;5;33mLSTM\u001b[0m)                   │ (\u001b[38;5;45mNone\u001b[0m, \u001b[38;5;34m50\u001b[0m)             │        \u001b[38;5;34m20,200\u001b[0m │\n",
       "├─────────────────────────────────┼────────────────────────┼───────────────┤\n",
       "│ dense (\u001b[38;5;33mDense\u001b[0m)                   │ (\u001b[38;5;45mNone\u001b[0m, \u001b[38;5;34m1\u001b[0m)              │            \u001b[38;5;34m51\u001b[0m │\n",
       "└─────────────────────────────────┴────────────────────────┴───────────────┘\n"
      ]
     },
     "metadata": {},
     "output_type": "display_data"
    },
    {
     "data": {
      "text/html": [
       "<pre style=\"white-space:pre;overflow-x:auto;line-height:normal;font-family:Menlo,'DejaVu Sans Mono',consolas,'Courier New',monospace\"><span style=\"font-weight: bold\"> Total params: </span><span style=\"color: #00af00; text-decoration-color: #00af00\">30,651</span> (119.73 KB)\n",
       "</pre>\n"
      ],
      "text/plain": [
       "\u001b[1m Total params: \u001b[0m\u001b[38;5;34m30,651\u001b[0m (119.73 KB)\n"
      ]
     },
     "metadata": {},
     "output_type": "display_data"
    },
    {
     "data": {
      "text/html": [
       "<pre style=\"white-space:pre;overflow-x:auto;line-height:normal;font-family:Menlo,'DejaVu Sans Mono',consolas,'Courier New',monospace\"><span style=\"font-weight: bold\"> Trainable params: </span><span style=\"color: #00af00; text-decoration-color: #00af00\">30,651</span> (119.73 KB)\n",
       "</pre>\n"
      ],
      "text/plain": [
       "\u001b[1m Trainable params: \u001b[0m\u001b[38;5;34m30,651\u001b[0m (119.73 KB)\n"
      ]
     },
     "metadata": {},
     "output_type": "display_data"
    },
    {
     "data": {
      "text/html": [
       "<pre style=\"white-space:pre;overflow-x:auto;line-height:normal;font-family:Menlo,'DejaVu Sans Mono',consolas,'Courier New',monospace\"><span style=\"font-weight: bold\"> Non-trainable params: </span><span style=\"color: #00af00; text-decoration-color: #00af00\">0</span> (0.00 B)\n",
       "</pre>\n"
      ],
      "text/plain": [
       "\u001b[1m Non-trainable params: \u001b[0m\u001b[38;5;34m0\u001b[0m (0.00 B)\n"
      ]
     },
     "metadata": {},
     "output_type": "display_data"
    }
   ],
   "source": [
    "lstm_model.summary()"
   ]
  },
  {
   "cell_type": "code",
   "execution_count": 19,
   "id": "264bc097",
   "metadata": {
    "execution": {
     "iopub.execute_input": "2024-06-25T19:26:23.774397Z",
     "iopub.status.busy": "2024-06-25T19:26:23.774026Z",
     "iopub.status.idle": "2024-06-25T19:26:23.779623Z",
     "shell.execute_reply": "2024-06-25T19:26:23.778573Z"
    },
    "papermill": {
     "duration": 0.019163,
     "end_time": "2024-06-25T19:26:23.781694",
     "exception": false,
     "start_time": "2024-06-25T19:26:23.762531",
     "status": "completed"
    },
    "tags": []
   },
   "outputs": [],
   "source": [
    "input=new_df[len(new_df)-len(val_data)-60:].values\n",
    "input=input.reshape(-1,1)\n",
    "input=scaler.transform(input)"
   ]
  },
  {
   "cell_type": "code",
   "execution_count": 20,
   "id": "c5862c80",
   "metadata": {
    "execution": {
     "iopub.execute_input": "2024-06-25T19:26:23.803983Z",
     "iopub.status.busy": "2024-06-25T19:26:23.803635Z",
     "iopub.status.idle": "2024-06-25T19:26:42.259979Z",
     "shell.execute_reply": "2024-06-25T19:26:42.258969Z"
    },
    "papermill": {
     "duration": 18.470345,
     "end_time": "2024-06-25T19:26:42.262254",
     "exception": false,
     "start_time": "2024-06-25T19:26:23.791909",
     "status": "completed"
    },
    "tags": []
   },
   "outputs": [
    {
     "name": "stdout",
     "output_type": "stream",
     "text": [
      "920/920 - 18s - 20ms/step - loss: 0.0010\n"
     ]
    },
    {
     "data": {
      "text/plain": [
       "<keras.src.callbacks.history.History at 0x7975ab957160>"
      ]
     },
     "execution_count": 20,
     "metadata": {},
     "output_type": "execute_result"
    }
   ],
   "source": [
    "lstm_model.compile(loss='mean_squared_error',optimizer='adam')\n",
    "lstm_model.fit(X_train,Y_train,epochs=1,batch_size=1,verbose=2)"
   ]
  },
  {
   "cell_type": "code",
   "execution_count": 21,
   "id": "f1c4dd87",
   "metadata": {
    "execution": {
     "iopub.execute_input": "2024-06-25T19:26:42.285247Z",
     "iopub.status.busy": "2024-06-25T19:26:42.284839Z",
     "iopub.status.idle": "2024-06-25T19:26:42.291353Z",
     "shell.execute_reply": "2024-06-25T19:26:42.290411Z"
    },
    "papermill": {
     "duration": 0.020337,
     "end_time": "2024-06-25T19:26:42.293446",
     "exception": false,
     "start_time": "2024-06-25T19:26:42.273109",
     "status": "completed"
    },
    "tags": []
   },
   "outputs": [],
   "source": [
    "X_test=[]\n",
    "for i in range(60,input.shape[0]):\n",
    "  X_test.append(input[i-60:i,0])\n",
    "X_test=np.array(X_test)\n",
    "\n",
    "X_test=np.reshape(X_test,(X_test.shape[0],X_test.shape[1],1))"
   ]
  },
  {
   "cell_type": "code",
   "execution_count": 22,
   "id": "0462ec87",
   "metadata": {
    "execution": {
     "iopub.execute_input": "2024-06-25T19:26:42.315978Z",
     "iopub.status.busy": "2024-06-25T19:26:42.315622Z",
     "iopub.status.idle": "2024-06-25T19:26:43.080150Z",
     "shell.execute_reply": "2024-06-25T19:26:43.079238Z"
    },
    "papermill": {
     "duration": 0.778655,
     "end_time": "2024-06-25T19:26:43.082628",
     "exception": false,
     "start_time": "2024-06-25T19:26:42.303973",
     "status": "completed"
    },
    "tags": []
   },
   "outputs": [
    {
     "name": "stdout",
     "output_type": "stream",
     "text": [
      "\u001b[1m8/8\u001b[0m \u001b[32m━━━━━━━━━━━━━━━━━━━━\u001b[0m\u001b[37m\u001b[0m \u001b[1m1s\u001b[0m 51ms/step\n"
     ]
    }
   ],
   "source": [
    "predicted_closing_price=lstm_model.predict(X_test)\n",
    "predicted_closing_price=scaler.inverse_transform(predicted_closing_price)"
   ]
  },
  {
   "cell_type": "code",
   "execution_count": 23,
   "id": "78612025",
   "metadata": {
    "execution": {
     "iopub.execute_input": "2024-06-25T19:26:43.106952Z",
     "iopub.status.busy": "2024-06-25T19:26:43.106089Z",
     "iopub.status.idle": "2024-06-25T19:26:43.143313Z",
     "shell.execute_reply": "2024-06-25T19:26:43.142299Z"
    },
    "papermill": {
     "duration": 0.051703,
     "end_time": "2024-06-25T19:26:43.145793",
     "exception": false,
     "start_time": "2024-06-25T19:26:43.094090",
     "status": "completed"
    },
    "tags": []
   },
   "outputs": [],
   "source": [
    "lstm_model.save('Model.h5')"
   ]
  },
  {
   "cell_type": "code",
   "execution_count": 24,
   "id": "3667bcea",
   "metadata": {
    "execution": {
     "iopub.execute_input": "2024-06-25T19:26:43.169185Z",
     "iopub.status.busy": "2024-06-25T19:26:43.168784Z",
     "iopub.status.idle": "2024-06-25T19:26:43.573721Z",
     "shell.execute_reply": "2024-06-25T19:26:43.572493Z"
    },
    "papermill": {
     "duration": 0.419909,
     "end_time": "2024-06-25T19:26:43.576692",
     "exception": false,
     "start_time": "2024-06-25T19:26:43.156783",
     "status": "completed"
    },
    "tags": []
   },
   "outputs": [
    {
     "name": "stderr",
     "output_type": "stream",
     "text": [
      "/tmp/ipykernel_18/596500970.py:3: SettingWithCopyWarning: \n",
      "A value is trying to be set on a copy of a slice from a DataFrame.\n",
      "Try using .loc[row_indexer,col_indexer] = value instead\n",
      "\n",
      "See the caveats in the documentation: https://pandas.pydata.org/pandas-docs/stable/user_guide/indexing.html#returning-a-view-versus-a-copy\n",
      "  val['Predictions']=predicted_closing_price\n"
     ]
    },
    {
     "data": {
      "text/plain": [
       "[<matplotlib.lines.Line2D at 0x7975a0590700>,\n",
       " <matplotlib.lines.Line2D at 0x7975a0590c70>]"
      ]
     },
     "execution_count": 24,
     "metadata": {},
     "output_type": "execute_result"
    },
    {
     "data": {
      "image/png": "[encoded data removed]",
      "text/plain": [
       "<Figure size 2000x1000 with 1 Axes>"
      ]
     },
     "metadata": {},
     "output_type": "display_data"
    }
   ],
   "source": [
    "train=new_df[:980]\n",
    "val=new_df[980:]\n",
    "val['Predictions']=predicted_closing_price\n",
    "\n",
    "plt.plot(train['Close'])\n",
    "plt.plot(val[['Close','Predictions']])\n"
   ]
  },
  {
   "cell_type": "code",
   "execution_count": null,
   "id": "d352faf2",
   "metadata": {
    "papermill": {
     "duration": 0.012121,
     "end_time": "2024-06-25T19:26:43.601402",
     "exception": false,
     "start_time": "2024-06-25T19:26:43.589281",
     "status": "completed"
    },
    "tags": []
   },
   "outputs": [],
   "source": []
  },
  {
   "cell_type": "code",
   "execution_count": null,
   "id": "2d7305ab",
   "metadata": {
    "papermill": {
     "duration": 0.012055,
     "end_time": "2024-06-25T19:26:43.625724",
     "exception": false,
     "start_time": "2024-06-25T19:26:43.613669",
     "status": "completed"
    },
    "tags": []
   },
   "outputs": [],
   "source": []
  },
  {
   "cell_type": "code",
   "execution_count": null,
   "id": "7e25c27c",
   "metadata": {
    "papermill": {
     "duration": 0.0121,
     "end_time": "2024-06-25T19:26:43.650071",
     "exception": false,
     "start_time": "2024-06-25T19:26:43.637971",
     "status": "completed"
    },
    "tags": []
   },
   "outputs": [],
   "source": []
  }
 ],
 "metadata": {
  "kaggle": {
   "accelerator": "none",
   "dataSources": [
    {
     "datasetId": 2525374,
     "sourceId": 4286055,
     "sourceType": "datasetVersion"
    }
   ],
   "dockerImageVersionId": 30732,
   "isGpuEnabled": false,
   "isInternetEnabled": true,
   "language": "python",
   "sourceType": "notebook"
  },
  "kernelspec": {
   "display_name": "Python 3",
   "language": "python",
   "name": "python3"
  },
  "language_info": {
   "codemirror_mode": {
    "name": "ipython",
    "version": 3
   },
   "file_extension": ".py",
   "mimetype": "text/x-python",
   "name": "python",
   "nbconvert_exporter": "python",
   "pygments_lexer": "ipython3",
   "version": "3.10.13"
  },
  "papermill": {
   "default_parameters": {},
   "duration": 38.921887,
   "end_time": "2024-06-25T19:26:45.085844",
   "environment_variables": {},
   "exception": null,
   "input_path": "__notebook__.ipynb",
   "output_path": "__notebook__.ipynb",
   "parameters": {},
   "start_time": "2024-06-25T19:26:06.163957",
   "version": "2.5.0"
  }
 },
 "nbformat": 4,
 "nbformat_minor": 5
}
